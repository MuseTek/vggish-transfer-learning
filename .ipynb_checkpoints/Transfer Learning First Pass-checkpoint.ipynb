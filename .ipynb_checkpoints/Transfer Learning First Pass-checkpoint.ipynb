{
 "cells": [
  {
   "cell_type": "code",
   "execution_count": 10,
   "metadata": {},
   "outputs": [],
   "source": [
    "import os\n",
    "import keras\n",
    "\n",
    "import numpy as np\n",
    "from numpy.random import seed, randint\n",
    "from scipy.io import wavfile\n",
    "from sklearn import svm\n",
    "import linecache\n",
    "\n",
    "from keras.models import Model\n",
    "from keras.layers import GlobalAveragePooling2D\n",
    "from model.vggish import VGGish\n",
    "import model.preprocess_sound"
   ]
  },
  {
   "cell_type": "code",
   "execution_count": 11,
   "metadata": {},
   "outputs": [
    {
     "name": "stdout",
     "output_type": "stream",
     "text": [
      "\u001b[34mcymbal\u001b[m\u001b[m \u001b[34mhat\u001b[m\u001b[m    \u001b[34mkick\u001b[m\u001b[m   \u001b[34mperc\u001b[m\u001b[m   \u001b[34msnare\u001b[m\u001b[m\r\n"
     ]
    }
   ],
   "source": [
    "datapath = \"../data/Samples/\"\n",
    "!ls {datapath}"
   ]
  },
  {
   "cell_type": "code",
   "execution_count": 12,
   "metadata": {},
   "outputs": [],
   "source": [
    "from model.vggish import VGGish"
   ]
  },
  {
   "cell_type": "code",
   "execution_count": 20,
   "metadata": {},
   "outputs": [],
   "source": [
    "# define sound model and add top layer for transfer learning\n",
    "sound_model = VGGish(include_top=False, load_weights=False)\n",
    "x = sound_model.get_layer(name=\"conv4/conv4_2\").output\n",
    "output_layer = GlobalAveragePooling2D()(x)\n",
    "sound_extractor = Model(inputs=sound_model.inputs, outputs=output_layer)"
   ]
  },
  {
   "cell_type": "code",
   "execution_count": 21,
   "metadata": {},
   "outputs": [
    {
     "name": "stdout",
     "output_type": "stream",
     "text": [
      "_________________________________________________________________\n",
      "Layer (type)                 Output Shape              Param #   \n",
      "=================================================================\n",
      "input_1 (InputLayer)         (None, 496, 64, 1)        0         \n",
      "_________________________________________________________________\n",
      "conv1 (Conv2D)               (None, 496, 64, 64)       640       \n",
      "_________________________________________________________________\n",
      "pool1 (MaxPooling2D)         (None, 248, 32, 64)       0         \n",
      "_________________________________________________________________\n",
      "conv2 (Conv2D)               (None, 248, 32, 128)      73856     \n",
      "_________________________________________________________________\n",
      "pool2 (MaxPooling2D)         (None, 124, 16, 128)      0         \n",
      "_________________________________________________________________\n",
      "conv3/conv3_1 (Conv2D)       (None, 124, 16, 256)      295168    \n",
      "_________________________________________________________________\n",
      "conv3/conv3_2 (Conv2D)       (None, 124, 16, 256)      590080    \n",
      "_________________________________________________________________\n",
      "pool3 (MaxPooling2D)         (None, 62, 8, 256)        0         \n",
      "_________________________________________________________________\n",
      "conv4/conv4_1 (Conv2D)       (None, 62, 8, 512)        1180160   \n",
      "_________________________________________________________________\n",
      "conv4/conv4_2 (Conv2D)       (None, 62, 8, 512)        2359808   \n",
      "_________________________________________________________________\n",
      "global_average_pooling2d_15  (None, 512)               0         \n",
      "=================================================================\n",
      "Total params: 4,499,712\n",
      "Trainable params: 4,499,712\n",
      "Non-trainable params: 0\n",
      "_________________________________________________________________\n"
     ]
    }
   ],
   "source": [
    "sound_extractor.summary()"
   ]
  },
  {
   "cell_type": "code",
   "execution_count": null,
   "metadata": {},
   "outputs": [],
   "source": []
  }
 ],
 "metadata": {
  "kernelspec": {
   "display_name": "Python 2",
   "language": "python",
   "name": "python2"
  },
  "language_info": {
   "codemirror_mode": {
    "name": "ipython",
    "version": 2
   },
   "file_extension": ".py",
   "mimetype": "text/x-python",
   "name": "python",
   "nbconvert_exporter": "python",
   "pygments_lexer": "ipython2",
   "version": "2.7.15"
  }
 },
 "nbformat": 4,
 "nbformat_minor": 2
}
